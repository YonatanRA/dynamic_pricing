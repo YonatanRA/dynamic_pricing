{
 "cells": [
  {
   "cell_type": "code",
   "execution_count": null,
   "id": "e9e43f65",
   "metadata": {},
   "outputs": [],
   "source": [
    "import pandas as pd  \n",
    "pd.options.plotting.backend = 'plotly'\n",
    "pd.set_option('display.max_columns', None)\n",
    "\n",
    "import numpy as np\n",
    "\n",
    "import plotly\n",
    "import plotly.express as px"
   ]
  },
  {
   "cell_type": "code",
   "execution_count": null,
   "id": "1bcd9961",
   "metadata": {},
   "outputs": [],
   "source": [
    "# surrogate - y = np.exp(alpha*x + beta)  # media de precio = 28.8\n",
    "\n",
    "surrogate = {'alpha': -0.02473518, 'beta': 5.47213038}"
   ]
  },
  {
   "cell_type": "code",
   "execution_count": null,
   "id": "42718556",
   "metadata": {},
   "outputs": [],
   "source": [
    "x = np.linspace(1, 100, 100)"
   ]
  },
  {
   "cell_type": "code",
   "execution_count": null,
   "id": "1060e04c",
   "metadata": {},
   "outputs": [],
   "source": [
    "products = pd.DataFrame()\n",
    "\n",
    "products['product'] = ['surrogate' for _ in x]\n",
    "products['price']=x\n",
    "products['demand']=np.exp(surrogate['alpha']*x + surrogate['beta'])\n",
    "products['profit']=products.price*products.demand*100\n",
    "\n",
    "products.head()\n",
    "\n"
   ]
  },
  {
   "cell_type": "code",
   "execution_count": null,
   "id": "c3ec9de7",
   "metadata": {},
   "outputs": [],
   "source": [
    "px.line(products, x='price', y='demand')"
   ]
  },
  {
   "cell_type": "code",
   "execution_count": null,
   "id": "8bef8796",
   "metadata": {},
   "outputs": [],
   "source": [
    "px.line(products, x='price', y='profit')"
   ]
  },
  {
   "cell_type": "code",
   "execution_count": null,
   "id": "48bea676",
   "metadata": {},
   "outputs": [],
   "source": [
    "# extracash -  precio medio 21.85\n",
    " \n",
    "#extracash = {'alpha': -0.17859269, 'beta': 6.24375443}\n",
    "extracash = {'alpha': -0.05629794, 'beta': 5.64341742}"
   ]
  },
  {
   "cell_type": "code",
   "execution_count": null,
   "id": "261ade00",
   "metadata": {},
   "outputs": [],
   "source": [
    "df = pd.DataFrame()\n",
    "\n",
    "df['product'] = ['extracash' for _ in x]\n",
    "df['price']=x\n",
    "df['demand']=np.exp(extracash['alpha']*x + extracash['beta'])\n",
    "df['profit']=df.price*df.demand*100\n",
    "\n",
    "df.head()"
   ]
  },
  {
   "cell_type": "code",
   "execution_count": null,
   "id": "9c0e0475",
   "metadata": {},
   "outputs": [],
   "source": [
    "px.line(df, x='price', y='demand')"
   ]
  },
  {
   "cell_type": "code",
   "execution_count": null,
   "id": "a1805b31",
   "metadata": {},
   "outputs": [],
   "source": [
    "px.line(df, x='price', y='profit')"
   ]
  },
  {
   "cell_type": "code",
   "execution_count": null,
   "id": "484c65b6",
   "metadata": {},
   "outputs": [],
   "source": [
    "# plussurrogate - precio medio 6.4\n",
    "\n",
    "\n",
    "plussurrogate = {'alpha': -0.22629794, 'beta': 5.64341742}"
   ]
  },
  {
   "cell_type": "code",
   "execution_count": null,
   "id": "c6c39529",
   "metadata": {},
   "outputs": [],
   "source": [
    "df = pd.DataFrame()\n",
    "\n",
    "df['product'] = ['plussurrogate' for _ in x]\n",
    "df['price']=x\n",
    "df['demand']=np.exp(plussurrogate['alpha']*x + plussurrogate['beta'])\n",
    "df['profit']=df.price*df.demand*100\n",
    "\n",
    "df.head()"
   ]
  },
  {
   "cell_type": "code",
   "execution_count": null,
   "id": "1253568d",
   "metadata": {},
   "outputs": [],
   "source": [
    "px.line(df, x='price', y='demand')"
   ]
  },
  {
   "cell_type": "code",
   "execution_count": null,
   "id": "52b1aa87",
   "metadata": {},
   "outputs": [],
   "source": [
    "px.line(df, x='price', y='profit')"
   ]
  },
  {
   "cell_type": "code",
   "execution_count": null,
   "id": "226afbdb",
   "metadata": {},
   "outputs": [],
   "source": []
  },
  {
   "cell_type": "code",
   "execution_count": null,
   "id": "834622d8",
   "metadata": {},
   "outputs": [],
   "source": []
  },
  {
   "cell_type": "code",
   "execution_count": null,
   "id": "f9819319",
   "metadata": {},
   "outputs": [],
   "source": []
  },
  {
   "cell_type": "code",
   "execution_count": null,
   "id": "b29ab2a0",
   "metadata": {},
   "outputs": [],
   "source": []
  },
  {
   "cell_type": "code",
   "execution_count": null,
   "id": "f47c0aca",
   "metadata": {},
   "outputs": [],
   "source": [
    "final = pd.read_parquet('../data/final_data.parquet')"
   ]
  },
  {
   "cell_type": "code",
   "execution_count": null,
   "id": "3b7b302c",
   "metadata": {},
   "outputs": [],
   "source": [
    "final.shape"
   ]
  },
  {
   "cell_type": "code",
   "execution_count": null,
   "id": "b354fec4",
   "metadata": {},
   "outputs": [],
   "source": [
    "final.client_id.nunique()"
   ]
  },
  {
   "cell_type": "code",
   "execution_count": null,
   "id": "e667a634",
   "metadata": {},
   "outputs": [],
   "source": [
    "final.date.min(), final.date.max()"
   ]
  },
  {
   "cell_type": "code",
   "execution_count": null,
   "id": "b84ca066",
   "metadata": {},
   "outputs": [],
   "source": [
    "cols=['client_id',\n",
    "      'date',\n",
    "      \n",
    "      'extracash_turnover_amount',\n",
    "      'extracash_turnover_rate',\n",
    "      \n",
    "      'plussurrogate_turnover_amount',\n",
    "      'plussurrogate_turnover_rate', \n",
    "      \n",
    "      'surrogate_turnover_amount',\n",
    "      'surrogate_turnover_rate']"
   ]
  },
  {
   "cell_type": "code",
   "execution_count": null,
   "id": "c838ce68",
   "metadata": {},
   "outputs": [],
   "source": [
    "final = final[cols].reset_index(drop=True)#.sort_values(by=['date', 'client_id'])"
   ]
  },
  {
   "cell_type": "code",
   "execution_count": null,
   "id": "606d7a75",
   "metadata": {},
   "outputs": [],
   "source": [
    "final.iloc[:3000].info()"
   ]
  },
  {
   "cell_type": "code",
   "execution_count": null,
   "id": "f5c7c312",
   "metadata": {},
   "outputs": [],
   "source": [
    "final.iloc[:3000].to_parquet('../data/sample_data.parquet')"
   ]
  },
  {
   "cell_type": "code",
   "execution_count": null,
   "id": "08fa61b9",
   "metadata": {},
   "outputs": [],
   "source": [
    "final.head(200)"
   ]
  },
  {
   "cell_type": "code",
   "execution_count": null,
   "id": "6ab815b9",
   "metadata": {},
   "outputs": [],
   "source": []
  },
  {
   "cell_type": "code",
   "execution_count": null,
   "id": "969d13e0",
   "metadata": {},
   "outputs": [],
   "source": []
  }
 ],
 "metadata": {
  "kernelspec": {
   "display_name": "clase",
   "language": "python",
   "name": "clase"
  },
  "language_info": {
   "codemirror_mode": {
    "name": "ipython",
    "version": 3
   },
   "file_extension": ".py",
   "mimetype": "text/x-python",
   "name": "python",
   "nbconvert_exporter": "python",
   "pygments_lexer": "ipython3",
   "version": "3.9.12"
  }
 },
 "nbformat": 4,
 "nbformat_minor": 5
}
