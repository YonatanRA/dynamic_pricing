{
 "cells": [
  {
   "cell_type": "code",
   "execution_count": null,
   "id": "21bb9afb",
   "metadata": {},
   "outputs": [],
   "source": [
    "import pandas as pd  \n",
    "pd.options.plotting.backend = 'plotly'\n",
    "pd.set_option('display.max_columns', None)\n",
    "\n",
    "import numpy as np            \n",
    "\n",
    "from scipy.stats import poisson        \n",
    "from scipy.optimize import minimize    \n",
    "from scipy.special import factorial\n",
    "\n",
    "from numba import jit \n",
    "\n",
    "from sklearn.preprocessing import StandardScaler\n",
    "\n",
    "import plotly\n",
    "import plotly.express as px"
   ]
  },
  {
   "cell_type": "markdown",
   "id": "6c5ab180",
   "metadata": {},
   "source": [
    "**Loglike Functions**"
   ]
  },
  {
   "cell_type": "code",
   "execution_count": null,
   "id": "776686aa",
   "metadata": {},
   "outputs": [],
   "source": [
    "@jit()\n",
    "def linear_loglike(price, count, alfa, beta):\n",
    "    '''\n",
    "    Linear Log-Likelihood from demand linear function:\n",
    "    \n",
    "    demand = alfa*price + beta\n",
    "    \n",
    "    args:\n",
    "    price float : product price\n",
    "    count int : product quantity sold in that price\n",
    "    alfa float : first fit parameter, slope of linear model\n",
    "    beta float : second fit parameter, intercept of linear model\n",
    "    '''\n",
    "    \n",
    "    demand = alfa*price + beta\n",
    "    \n",
    "    return -demand + count*np.log(demand) #- np.log(factorial(count))  \n",
    "    "
   ]
  },
  {
   "cell_type": "code",
   "execution_count": null,
   "id": "d19c3849",
   "metadata": {},
   "outputs": [],
   "source": [
    "@jit()\n",
    "def exponential_loglike(price, count, alfa, beta):\n",
    "    '''\n",
    "    Linear Log-Likelihood from demand exponential function:\n",
    "    \n",
    "    demand = np.exp(alfa*price + beta)\n",
    "    \n",
    "    args:\n",
    "    price float : product price\n",
    "    count int : product quantity sold in that price\n",
    "    alfa float : first fit parameter, price parameter\n",
    "    beta float : second fit parameter, intercept parameter\n",
    "    '''\n",
    "    \n",
    "    demand = np.exp(alfa*price + beta)\n",
    "    \n",
    "    return -demand + count*np.log(demand) # - np.log(factorial(count))  "
   ]
  },
  {
   "cell_type": "code",
   "execution_count": null,
   "id": "a54dc777",
   "metadata": {},
   "outputs": [],
   "source": [
    "@jit()\n",
    "def elasticity_loglike(price, count, alfa, beta):\n",
    "    '''\n",
    "    Linear Log-Likelihood from demand elasticity model:\n",
    "    \n",
    "    demand = alfa*price**beta\n",
    "    \n",
    "    args:\n",
    "    price float : product price\n",
    "    count int : product quantity sold in that price\n",
    "    alfa float : first fit parameter, price parameter\n",
    "    beta float : second fit parameter, elasticity parameter\n",
    "    '''\n",
    "    \n",
    "    #demand = alfa*price**beta\n",
    "    \n",
    "    \n",
    "    demand = np.exp(np.log(alfa)+beta*np.log(price))\n",
    "    \n",
    "    \n",
    "    return -demand + count*np.log(demand) # - np.log(factorial(count))  \n",
    "    \n",
    "    \n",
    "    "
   ]
  },
  {
   "cell_type": "markdown",
   "id": "9777e16a",
   "metadata": {},
   "source": [
    "**Fit Model**"
   ]
  },
  {
   "cell_type": "code",
   "execution_count": null,
   "id": "c8c9079b",
   "metadata": {},
   "outputs": [],
   "source": [
    "def fit(datos, loglike, p1, p2,\n",
    "        opciones={'disp':True,'maxiter':100},  # Funcion para obtener alfas, betas y gamma, stats y maximas iteraciones\n",
    "        metodo='trust-constr',    # metodo Nelder-Mead, Powell, CG, BFGS, Newton-CG, L-BFGS-B, TNC, COBYLA, SLSQP, trust-constr, dogleg, trust-ncg, trust-exact, trust-krylov (tambien custom)\n",
    "        ):  \n",
    "\n",
    "    \n",
    "    # inicializacion aleatoria de los parametros\n",
    "    val_inicial=np.concatenate((np.array([p1]),   # alfa\n",
    "                                np.array([p2])    # beta\n",
    "                                ))                \n",
    "  \n",
    "\n",
    "    def menos_loglike(params):  # Funcion menos log-verosimilitud, funcion a minimizar\n",
    "\n",
    "        log_like = [loglike(n.price,      # price from data\n",
    "                            n.count_,     # count from data\n",
    "                            params[0],    # alfa parameter\n",
    "                            params[1])    # beta parameter\n",
    "                    for n in datos.itertuples()] # seleccion en filas\n",
    "        \n",
    "        return -sum(log_like) \n",
    "        \n",
    "    \n",
    "    salida=minimize(menos_loglike, \n",
    "                    val_inicial, \n",
    "                    options=opciones, \n",
    "                    #constraints=restricciones, \n",
    "                    method=metodo) # minimizacion\n",
    "\n",
    "    #return salida       # salida de la minimizacion\n",
    "    return salida.x   # alfa, beta \n",
    "    "
   ]
  },
  {
   "cell_type": "markdown",
   "id": "9ffe5aa6",
   "metadata": {},
   "source": [
    "**DATA**"
   ]
  },
  {
   "cell_type": "code",
   "execution_count": null,
   "id": "c34202ce",
   "metadata": {},
   "outputs": [],
   "source": [
    "%%time\n",
    "\n",
    "df = pd.read_parquet('../data/bbva.parquet')\n",
    "\n",
    "df.head()"
   ]
  },
  {
   "cell_type": "code",
   "execution_count": null,
   "id": "09106793",
   "metadata": {},
   "outputs": [],
   "source": [
    "data = df[['cutoff_date', 'extracash_turnover_amount', 'extracash_turnover_rate']].dropna()"
   ]
  },
  {
   "cell_type": "code",
   "execution_count": null,
   "id": "2d00bd3f",
   "metadata": {},
   "outputs": [],
   "source": [
    "data.extracash_turnover_rate=data.extracash_turnover_rate.round()"
   ]
  },
  {
   "cell_type": "code",
   "execution_count": null,
   "id": "54492e39",
   "metadata": {},
   "outputs": [],
   "source": [
    "data.extracash_turnover_amount.plot.box()"
   ]
  },
  {
   "cell_type": "code",
   "execution_count": null,
   "id": "491af06d",
   "metadata": {},
   "outputs": [],
   "source": [
    "data.head()"
   ]
  },
  {
   "cell_type": "code",
   "execution_count": null,
   "id": "28824f10",
   "metadata": {},
   "outputs": [],
   "source": [
    "data = data[data.extracash_turnover_amount<10_105]"
   ]
  },
  {
   "cell_type": "code",
   "execution_count": null,
   "id": "b7c098b7",
   "metadata": {},
   "outputs": [],
   "source": [
    "data=data.groupby(['cutoff_date', 'extracash_turnover_rate']).count()"
   ]
  },
  {
   "cell_type": "code",
   "execution_count": null,
   "id": "81205b39",
   "metadata": {},
   "outputs": [],
   "source": [
    "dates=sorted(list(set([e[0] for e in data.index])))"
   ]
  },
  {
   "cell_type": "code",
   "execution_count": null,
   "id": "24f76451",
   "metadata": {},
   "outputs": [],
   "source": [
    "prices=list(set([e[1] for e in data.index]))"
   ]
  },
  {
   "cell_type": "code",
   "execution_count": null,
   "id": "9dfecc87",
   "metadata": {},
   "outputs": [],
   "source": [
    "raw_data = []\n",
    "\n",
    "\n",
    "for d in dates:\n",
    "    \n",
    "    for p in prices:\n",
    "        \n",
    "        try:\n",
    "            item = {'date': d, 'price': p, 'count': data.loc[d].loc[p][0]}\n",
    "            raw_data.append(item)\n",
    "            \n",
    "        except:\n",
    "            item = {'date': d, 'price': p, 'count': 0}\n",
    "            raw_data.append(item)\n",
    "            \n"
   ]
  },
  {
   "cell_type": "code",
   "execution_count": null,
   "id": "0f5513a7",
   "metadata": {},
   "outputs": [],
   "source": [
    "data=pd.DataFrame(raw_data)"
   ]
  },
  {
   "cell_type": "code",
   "execution_count": null,
   "id": "1bc0971e",
   "metadata": {},
   "outputs": [],
   "source": [
    "#data=data.reset_index()\n",
    "#data.columns = ['date', 'price', 'count']"
   ]
  },
  {
   "cell_type": "code",
   "execution_count": null,
   "id": "0aff4a03",
   "metadata": {},
   "outputs": [],
   "source": [
    "data.head()"
   ]
  },
  {
   "cell_type": "code",
   "execution_count": null,
   "id": "91c58da1",
   "metadata": {},
   "outputs": [],
   "source": [
    "data.price.plot.box()"
   ]
  },
  {
   "cell_type": "code",
   "execution_count": null,
   "id": "52140a40",
   "metadata": {},
   "outputs": [],
   "source": [
    "data['count'].plot.box()"
   ]
  },
  {
   "cell_type": "code",
   "execution_count": null,
   "id": "69fd72b9",
   "metadata": {},
   "outputs": [],
   "source": [
    "#data = data[(data.price>0) & (data.price<100)]\n",
    "\n",
    "#data = data[data['count']<351]\n",
    "\n",
    "data['count'] = data['count'].apply(lambda x: x if x<314 else 39)"
   ]
  },
  {
   "cell_type": "code",
   "execution_count": null,
   "id": "80eef00a",
   "metadata": {},
   "outputs": [],
   "source": [
    "data['count'].plot.box()"
   ]
  },
  {
   "cell_type": "code",
   "execution_count": null,
   "id": "9a21f1a7",
   "metadata": {},
   "outputs": [],
   "source": [
    "def normalizer(x):\n",
    "    \n",
    "    x_mean = x.mean()\n",
    "    \n",
    "    x_std = x.std()\n",
    "    \n",
    "    \n",
    "    return (x-x_mean)/x_std\n",
    "    "
   ]
  },
  {
   "cell_type": "code",
   "execution_count": null,
   "id": "07e5142a",
   "metadata": {},
   "outputs": [],
   "source": [
    "#data.price = normalizer(data.price)\n",
    "\n",
    "data.price = data.price/10\n",
    "\n",
    "data.head()"
   ]
  },
  {
   "cell_type": "code",
   "execution_count": null,
   "id": "eaa66f84",
   "metadata": {},
   "outputs": [],
   "source": [
    "data.shape"
   ]
  },
  {
   "cell_type": "code",
   "execution_count": null,
   "id": "509a27a5",
   "metadata": {},
   "outputs": [],
   "source": [
    "data['count'].plot.box()"
   ]
  },
  {
   "cell_type": "code",
   "execution_count": null,
   "id": "56bf8592",
   "metadata": {},
   "outputs": [],
   "source": [
    "data2 = data.copy()\n",
    "\n",
    "data2.price = data.price + 5\n",
    "\n",
    "data = pd.concat([data, data2])"
   ]
  },
  {
   "cell_type": "code",
   "execution_count": null,
   "id": "f8500d4d",
   "metadata": {},
   "outputs": [],
   "source": []
  },
  {
   "cell_type": "code",
   "execution_count": null,
   "id": "c7b32186",
   "metadata": {},
   "outputs": [],
   "source": []
  },
  {
   "cell_type": "code",
   "execution_count": null,
   "id": "f78b8bdf",
   "metadata": {},
   "outputs": [],
   "source": []
  },
  {
   "cell_type": "code",
   "execution_count": null,
   "id": "ffc7267f",
   "metadata": {},
   "outputs": [],
   "source": []
  },
  {
   "cell_type": "code",
   "execution_count": null,
   "id": "37dcbee6",
   "metadata": {},
   "outputs": [],
   "source": [
    "data = pd.read_parquet('../data/fake_data3.parquet')\n",
    "\n",
    "data.head()"
   ]
  },
  {
   "cell_type": "code",
   "execution_count": null,
   "id": "c09e24fd",
   "metadata": {},
   "outputs": [],
   "source": [
    "#data=data[data.price>20]"
   ]
  },
  {
   "cell_type": "code",
   "execution_count": null,
   "id": "589d6f11",
   "metadata": {},
   "outputs": [],
   "source": [
    "#data.price=data.price.round() / 10"
   ]
  },
  {
   "cell_type": "code",
   "execution_count": null,
   "id": "3b2cb68b",
   "metadata": {},
   "outputs": [],
   "source": [
    "#data['count_']=0"
   ]
  },
  {
   "cell_type": "code",
   "execution_count": null,
   "id": "0c497f05",
   "metadata": {},
   "outputs": [],
   "source": [
    "#data=data.groupby(['date', 'price']).count().reset_index()"
   ]
  },
  {
   "cell_type": "code",
   "execution_count": null,
   "id": "f3f8a4be",
   "metadata": {},
   "outputs": [],
   "source": [
    "data"
   ]
  },
  {
   "cell_type": "code",
   "execution_count": null,
   "id": "96cb8261",
   "metadata": {},
   "outputs": [],
   "source": []
  },
  {
   "cell_type": "markdown",
   "id": "3dc72154",
   "metadata": {},
   "source": [
    "**Fitting**"
   ]
  },
  {
   "cell_type": "code",
   "execution_count": null,
   "id": "de3e63b7",
   "metadata": {},
   "outputs": [],
   "source": [
    "%%time\n",
    "\n",
    "linear_params = fit(data[['price', 'count_']], \n",
    "                    linear_loglike, \n",
    "                    p1=1.,\n",
    "                    p2=1.,\n",
    "                    opciones={'disp':True,'maxiter':10000})\n",
    "\n",
    "linear_params"
   ]
  },
  {
   "cell_type": "code",
   "execution_count": null,
   "id": "4e79d1de",
   "metadata": {},
   "outputs": [],
   "source": [
    "%%time\n",
    "\n",
    "exponential_params = fit(data[['price', 'count_']], \n",
    "                         exponential_loglike, \n",
    "                         p1=-1., \n",
    "                         p2=0.,\n",
    "                         opciones={'disp':True,'maxiter':10000})\n",
    "\n",
    "exponential_params"
   ]
  },
  {
   "cell_type": "code",
   "execution_count": null,
   "id": "9e0783bf",
   "metadata": {},
   "outputs": [],
   "source": [
    "%%time\n",
    "\n",
    "elasticity_params = fit(data[['price', 'count_']], \n",
    "                        elasticity_loglike, \n",
    "                        p1=4.,\n",
    "                        p2=4.,\n",
    "                        opciones={'disp':True,'maxiter':10000})\n",
    "\n",
    "elasticity_params"
   ]
  },
  {
   "cell_type": "markdown",
   "id": "7bf53533",
   "metadata": {},
   "source": [
    "**Plotting**"
   ]
  },
  {
   "cell_type": "code",
   "execution_count": null,
   "id": "984ea9b6",
   "metadata": {},
   "outputs": [],
   "source": [
    "x = np.linspace(1, 100, 100)\n",
    "\n",
    "x"
   ]
  },
  {
   "cell_type": "code",
   "execution_count": null,
   "id": "ac3f1d06",
   "metadata": {},
   "outputs": [],
   "source": [
    "linear_params"
   ]
  },
  {
   "cell_type": "code",
   "execution_count": null,
   "id": "2cfe3eb0",
   "metadata": {},
   "outputs": [],
   "source": [
    "linear_y = linear_params[0]*x + linear_params[1]\n",
    "\n",
    "linear_y"
   ]
  },
  {
   "cell_type": "code",
   "execution_count": null,
   "id": "35cc0c82",
   "metadata": {},
   "outputs": [],
   "source": [
    "exp_y = np.exp(exponential_params[0]*x+exponential_params[1])\n",
    "\n",
    "exp_y"
   ]
  },
  {
   "cell_type": "code",
   "execution_count": null,
   "id": "8ac54331",
   "metadata": {},
   "outputs": [],
   "source": [
    "elasticity_y = elasticity_params[0]*x**elasticity_params[1]\n",
    "\n",
    "elasticity_y"
   ]
  },
  {
   "cell_type": "markdown",
   "id": "5946e795",
   "metadata": {},
   "source": [
    "**Plots**"
   ]
  },
  {
   "cell_type": "code",
   "execution_count": null,
   "id": "17e734fb",
   "metadata": {},
   "outputs": [],
   "source": [
    "data.describe()"
   ]
  },
  {
   "cell_type": "code",
   "execution_count": null,
   "id": "bac41483",
   "metadata": {},
   "outputs": [],
   "source": [
    "df_plot=pd.DataFrame()\n",
    "\n",
    "df_plot['x']=x\n",
    "df_plot['linear_y']=linear_y\n",
    "df_plot['exp_y']=exp_y\n",
    "df_plot['elasticity_y']=elasticity_y\n",
    "\n",
    "\n",
    "px.line(df_plot, x='x', y='linear_y')"
   ]
  },
  {
   "cell_type": "code",
   "execution_count": null,
   "id": "db6f1d98",
   "metadata": {},
   "outputs": [],
   "source": [
    "px.line(df_plot, x='x', y='exp_y')"
   ]
  },
  {
   "cell_type": "code",
   "execution_count": null,
   "id": "212a6b87",
   "metadata": {},
   "outputs": [],
   "source": [
    "df_plot['exp_profit']=df_plot.x*df_plot.exp_y*100\n",
    "\n",
    "px.line(df_plot, x='x', y='exp_profit')"
   ]
  },
  {
   "cell_type": "code",
   "execution_count": null,
   "id": "ee202309",
   "metadata": {},
   "outputs": [],
   "source": [
    "df_plot"
   ]
  },
  {
   "cell_type": "code",
   "execution_count": null,
   "id": "a45f129d",
   "metadata": {},
   "outputs": [],
   "source": [
    "px.line(df_plot, x='x', y='elasticity_y')"
   ]
  },
  {
   "cell_type": "code",
   "execution_count": null,
   "id": "a4d739ec",
   "metadata": {},
   "outputs": [],
   "source": [
    "data.describe()"
   ]
  },
  {
   "cell_type": "code",
   "execution_count": null,
   "id": "1eb25de3",
   "metadata": {},
   "outputs": [],
   "source": [
    "data"
   ]
  },
  {
   "cell_type": "code",
   "execution_count": null,
   "id": "58bc47bb",
   "metadata": {},
   "outputs": [],
   "source": []
  },
  {
   "cell_type": "code",
   "execution_count": null,
   "id": "1910183e",
   "metadata": {},
   "outputs": [],
   "source": []
  },
  {
   "cell_type": "code",
   "execution_count": null,
   "id": "cecbdc62",
   "metadata": {},
   "outputs": [],
   "source": []
  }
 ],
 "metadata": {
  "kernelspec": {
   "display_name": "clase",
   "language": "python",
   "name": "clase"
  },
  "language_info": {
   "codemirror_mode": {
    "name": "ipython",
    "version": 3
   },
   "file_extension": ".py",
   "mimetype": "text/x-python",
   "name": "python",
   "nbconvert_exporter": "python",
   "pygments_lexer": "ipython3",
   "version": "3.9.12"
  }
 },
 "nbformat": 4,
 "nbformat_minor": 5
}
