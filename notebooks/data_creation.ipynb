{
 "cells": [
  {
   "cell_type": "code",
   "execution_count": null,
   "id": "995eb4ad",
   "metadata": {},
   "outputs": [],
   "source": [
    "import pandas as pd  \n",
    "pd.options.plotting.backend = 'plotly'\n",
    "pd.set_option('display.max_columns', None)\n",
    "\n",
    "import numpy as np\n",
    "from tqdm.notebook import tqdm"
   ]
  },
  {
   "cell_type": "code",
   "execution_count": null,
   "id": "72a337d6",
   "metadata": {},
   "outputs": [],
   "source": [
    "%%time\n",
    "\n",
    "df = pd.read_parquet('../data/bbva.parquet')\n",
    "\n",
    "df.head()"
   ]
  },
  {
   "cell_type": "code",
   "execution_count": null,
   "id": "5a292afb",
   "metadata": {},
   "outputs": [],
   "source": [
    "data = df[['x_cliente', 'cutoff_date', 'extracash_turnover_amount', 'extracash_turnover_rate']].dropna()\n",
    "\n",
    "data.head()"
   ]
  },
  {
   "cell_type": "code",
   "execution_count": null,
   "id": "b2a38d8b",
   "metadata": {},
   "outputs": [],
   "source": [
    "data.shape"
   ]
  },
  {
   "cell_type": "code",
   "execution_count": null,
   "id": "595ff3cf",
   "metadata": {},
   "outputs": [],
   "source": [
    "data.x_cliente.nunique()"
   ]
  },
  {
   "cell_type": "code",
   "execution_count": null,
   "id": "44f2150e",
   "metadata": {},
   "outputs": [],
   "source": [
    "data[data.x_cliente==130854]"
   ]
  },
  {
   "cell_type": "code",
   "execution_count": null,
   "id": "46f478f1",
   "metadata": {},
   "outputs": [],
   "source": []
  },
  {
   "cell_type": "code",
   "execution_count": null,
   "id": "6c57ae74",
   "metadata": {},
   "outputs": [],
   "source": [
    "medias = np.random.normal(60, 5, size=30000)  # 42\n",
    "\n",
    "medias[:10]"
   ]
  },
  {
   "cell_type": "code",
   "execution_count": null,
   "id": "86840bc9",
   "metadata": {},
   "outputs": [],
   "source": [
    "np.random.normal(42, 20, size=10)"
   ]
  },
  {
   "cell_type": "code",
   "execution_count": null,
   "id": "aa9d8ad0",
   "metadata": {},
   "outputs": [],
   "source": [
    "fechas = pd.date_range(start='2021-01-01',end='2022-12-31')"
   ]
  },
  {
   "cell_type": "code",
   "execution_count": null,
   "id": "8dbd3a25",
   "metadata": {},
   "outputs": [],
   "source": [
    "%%time\n",
    "\n",
    "fake_data = pd.DataFrame()\n",
    "\n",
    "for i in tqdm(range(20000)):\n",
    "    \n",
    "    tmp_data = pd.DataFrame()\n",
    "    \n",
    "    tmp_data['date']=fechas\n",
    "    \n",
    "    tmp_data['price']=np.random.normal(medias[i], 20, size=len(fechas))\n",
    "    \n",
    "    fake_data=pd.concat([fake_data, tmp_data])"
   ]
  },
  {
   "cell_type": "code",
   "execution_count": null,
   "id": "44765d87",
   "metadata": {},
   "outputs": [],
   "source": [
    "fake_data.shape"
   ]
  },
  {
   "cell_type": "code",
   "execution_count": null,
   "id": "d3e0539d",
   "metadata": {},
   "outputs": [],
   "source": [
    "fake_data.head()"
   ]
  },
  {
   "cell_type": "code",
   "execution_count": null,
   "id": "b75df825",
   "metadata": {},
   "outputs": [],
   "source": [
    "fake_data.sample(n=100000).price.plot.hist()"
   ]
  },
  {
   "cell_type": "code",
   "execution_count": null,
   "id": "cc3c70fb",
   "metadata": {},
   "outputs": [],
   "source": [
    "fake_data.price = fake_data.price.apply(lambda x: abs(x))"
   ]
  },
  {
   "cell_type": "code",
   "execution_count": null,
   "id": "1207eb8a",
   "metadata": {},
   "outputs": [],
   "source": [
    "fake_data.price = fake_data.price.apply(lambda x: x if x<100 else x-100)"
   ]
  },
  {
   "cell_type": "code",
   "execution_count": null,
   "id": "6be61a28",
   "metadata": {},
   "outputs": [],
   "source": [
    "fake_data.sample(n=100000).price.plot.hist()"
   ]
  },
  {
   "cell_type": "code",
   "execution_count": null,
   "id": "2134cef3",
   "metadata": {},
   "outputs": [],
   "source": [
    "fake_data.to_parquet('../data/fake_data.parquet')"
   ]
  },
  {
   "cell_type": "code",
   "execution_count": null,
   "id": "e9ff8867",
   "metadata": {},
   "outputs": [],
   "source": [
    "fake_data.price.round().plot.hist()"
   ]
  },
  {
   "cell_type": "code",
   "execution_count": null,
   "id": "436e7790",
   "metadata": {},
   "outputs": [],
   "source": []
  }
 ],
 "metadata": {
  "kernelspec": {
   "display_name": "clase",
   "language": "python",
   "name": "clase"
  },
  "language_info": {
   "codemirror_mode": {
    "name": "ipython",
    "version": 3
   },
   "file_extension": ".py",
   "mimetype": "text/x-python",
   "name": "python",
   "nbconvert_exporter": "python",
   "pygments_lexer": "ipython3",
   "version": "3.9.12"
  }
 },
 "nbformat": 4,
 "nbformat_minor": 5
}
