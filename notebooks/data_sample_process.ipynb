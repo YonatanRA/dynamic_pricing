{
 "cells": [
  {
   "cell_type": "code",
   "execution_count": null,
   "id": "cb35d38a",
   "metadata": {},
   "outputs": [],
   "source": [
    "import pandas as pd  \n",
    "pd.options.plotting.backend = 'plotly'\n",
    "pd.set_option('display.max_columns', None)\n",
    "\n",
    "import numpy as np\n",
    "from tqdm.notebook import tqdm"
   ]
  },
  {
   "cell_type": "code",
   "execution_count": null,
   "id": "5dff45cf",
   "metadata": {},
   "outputs": [],
   "source": [
    "%%time\n",
    "\n",
    "df = pd.read_parquet('../data/bbva.parquet')\n",
    "\n",
    "df.head()"
   ]
  },
  {
   "cell_type": "code",
   "execution_count": null,
   "id": "f91735a6",
   "metadata": {},
   "outputs": [],
   "source": [
    "productos = sorted([c for c in df.columns if 'turnover_rate' in c])\n",
    "\n",
    "cantidad = [e.replace('rate', 'amount') for e in productos]\n",
    "\n",
    "seleccion = [e for tupla in zip(cantidad, productos) for e in tupla]\n",
    "\n",
    "columnas = ['x_cliente', 'cutoff_date'] + seleccion"
   ]
  },
  {
   "cell_type": "code",
   "execution_count": null,
   "id": "46df503c",
   "metadata": {},
   "outputs": [],
   "source": [
    "data=df[columnas]"
   ]
  },
  {
   "cell_type": "code",
   "execution_count": null,
   "id": "796a367e",
   "metadata": {},
   "outputs": [],
   "source": [
    "data = data.rename(columns={'x_cliente': 'id_cliente'})"
   ]
  },
  {
   "cell_type": "code",
   "execution_count": null,
   "id": "160bd9f0",
   "metadata": {},
   "outputs": [],
   "source": [
    "data.head()"
   ]
  },
  {
   "cell_type": "code",
   "execution_count": null,
   "id": "1b18148c",
   "metadata": {},
   "outputs": [],
   "source": [
    "medias = {'extracash_turnover_amount': [5986.736567, 14522.404827],\n",
    "          'extracash_turnover_rate': [53.319243, 21.855523],\n",
    "          'pluscash_turnover_amount': [3889.267133, 8101.797840],\n",
    "          'pluscash_turnover_rate': [61.226405, 25.169930],\n",
    "          'plussurrogate_turnover_amount': [12658.592996, 15504.792929],\n",
    "          'plussurrogate_turnover_rate': [15.472557, 4.408297],\n",
    "          'surrogate_turnover_amount': [7120.014856, 11636.060459],\n",
    "          'surrogate_turnover_rate': [38.422243, 28.806665]\n",
    "         }"
   ]
  },
  {
   "cell_type": "code",
   "execution_count": null,
   "id": "2e7c0b5c",
   "metadata": {},
   "outputs": [],
   "source": [
    "fechas = pd.date_range(start='2021-01-01',end='2022-12-31')\n",
    "\n",
    "len(fechas)"
   ]
  },
  {
   "cell_type": "code",
   "execution_count": null,
   "id": "f0585f90",
   "metadata": {},
   "outputs": [],
   "source": [
    "clientes = data.id_cliente.unique()[:len(fechas)]\n",
    "\n",
    "len(clientes)"
   ]
  },
  {
   "cell_type": "code",
   "execution_count": null,
   "id": "d8656d22",
   "metadata": {},
   "outputs": [],
   "source": [
    "%%time\n",
    "\n",
    "final_data = pd.DataFrame()\n",
    "\n",
    "for i in tqdm(range(20000)):  # operaciones\n",
    "    \n",
    "    \n",
    "    tmp_data = pd.DataFrame()\n",
    "       \n",
    "    tmp_data['client_id'] = clientes\n",
    "    \n",
    "    tmp_data['date']=fechas\n",
    "    \n",
    "    for k,v in medias.items():\n",
    "        \n",
    "        tmp_data[k]=np.random.normal(v[0], v[1], size=len(fechas))\n",
    "        tmp_data[k]=tmp_data[k].apply(lambda x: abs(x))\n",
    "    \n",
    "    final_data=pd.concat([final_data, tmp_data])\n",
    "    "
   ]
  },
  {
   "cell_type": "code",
   "execution_count": null,
   "id": "2c73884c",
   "metadata": {},
   "outputs": [],
   "source": [
    "rates = [c for c in final_data.columns if '_rate' in c]\n",
    "\n",
    "for r in rates:\n",
    "    final_data[r]=final_data[r].apply(lambda x: x if x<=100 else x-100)"
   ]
  },
  {
   "cell_type": "code",
   "execution_count": null,
   "id": "25b4d387",
   "metadata": {},
   "outputs": [],
   "source": [
    "for r in rates:\n",
    "    final_data[r]=final_data[r].apply(lambda x: x+20).round()"
   ]
  },
  {
   "cell_type": "code",
   "execution_count": null,
   "id": "e25317aa",
   "metadata": {},
   "outputs": [],
   "source": [
    "for r in rates:\n",
    "    final_data[r]=final_data[r].apply(lambda x: 100 if x>100 else x)"
   ]
  },
  {
   "cell_type": "code",
   "execution_count": null,
   "id": "8005442b",
   "metadata": {},
   "outputs": [],
   "source": [
    "final_data.describe()"
   ]
  },
  {
   "cell_type": "code",
   "execution_count": null,
   "id": "cc208ca0",
   "metadata": {},
   "outputs": [],
   "source": [
    "final_data.extracash_turnover_rate.min()"
   ]
  },
  {
   "cell_type": "code",
   "execution_count": null,
   "id": "c6ab7b54",
   "metadata": {},
   "outputs": [],
   "source": [
    "final_data.to_parquet('../data/final_data.parquet')"
   ]
  },
  {
   "cell_type": "code",
   "execution_count": null,
   "id": "e9a9c63e",
   "metadata": {},
   "outputs": [],
   "source": []
  }
 ],
 "metadata": {
  "kernelspec": {
   "display_name": "clase",
   "language": "python",
   "name": "clase"
  },
  "language_info": {
   "codemirror_mode": {
    "name": "ipython",
    "version": 3
   },
   "file_extension": ".py",
   "mimetype": "text/x-python",
   "name": "python",
   "nbconvert_exporter": "python",
   "pygments_lexer": "ipython3",
   "version": "3.9.12"
  }
 },
 "nbformat": 4,
 "nbformat_minor": 5
}
