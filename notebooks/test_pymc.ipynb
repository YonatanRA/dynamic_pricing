{
 "cells": [
  {
   "cell_type": "markdown",
   "id": "cf1e7968",
   "metadata": {},
   "source": [
    "https://cscherrer.github.io/post/max-profit/"
   ]
  },
  {
   "cell_type": "code",
   "execution_count": null,
   "id": "53fba462",
   "metadata": {},
   "outputs": [],
   "source": [
    "import pymc3 as pm\n",
    "\n",
    "import numpy as np\n",
    "\n",
    "import pylab as plt"
   ]
  },
  {
   "cell_type": "code",
   "execution_count": null,
   "id": "3c2097f2",
   "metadata": {},
   "outputs": [],
   "source": [
    "# Price default when demand default\n",
    "\n",
    "p0 = [10.0, 20.0, 30.0, 40.0, 50.0, 60.0, 70.0, 80.0, 90.0, 100.0]\n",
    "\n",
    "q0 = [34, 32, 478, 973, 541, 26, 205, 772, 249, 3]\n"
   ]
  },
  {
   "cell_type": "code",
   "execution_count": null,
   "id": "7bf60d4a",
   "metadata": {},
   "outputs": [],
   "source": [
    "with pm.Model() as m:\n",
    "    \n",
    "    loga = pm.Cauchy('loga',0, 10)\n",
    "    \n",
    "    c = pm.Cauchy('c',0, 10)\n",
    "    \n",
    "    logμ0 = loga + c * np.log(p0)\n",
    "    \n",
    "    μ0 = pm.Deterministic('μ0', np.exp(logμ0))\n",
    "    \n",
    "    qval = pm.Poisson('q', μ0, observed=q0)\n",
    "    \n",
    "    "
   ]
  },
  {
   "cell_type": "code",
   "execution_count": null,
   "id": "73eb3ef3",
   "metadata": {},
   "outputs": [],
   "source": [
    "loga"
   ]
  },
  {
   "cell_type": "code",
   "execution_count": null,
   "id": "a5977283",
   "metadata": {},
   "outputs": [],
   "source": [
    "c"
   ]
  },
  {
   "cell_type": "code",
   "execution_count": null,
   "id": "4a722053",
   "metadata": {},
   "outputs": [],
   "source": [
    "logμ0"
   ]
  },
  {
   "cell_type": "code",
   "execution_count": null,
   "id": "d884aa25",
   "metadata": {},
   "outputs": [],
   "source": [
    "μ0"
   ]
  },
  {
   "cell_type": "code",
   "execution_count": null,
   "id": "5ec78cf1",
   "metadata": {},
   "outputs": [],
   "source": [
    "qval"
   ]
  },
  {
   "cell_type": "code",
   "execution_count": null,
   "id": "a526074f",
   "metadata": {},
   "outputs": [],
   "source": [
    "with m:\n",
    "    trace = pm.sample()"
   ]
  },
  {
   "cell_type": "code",
   "execution_count": null,
   "id": "7f24dc74",
   "metadata": {},
   "outputs": [],
   "source": [
    "pm.summary(trace)"
   ]
  },
  {
   "cell_type": "code",
   "execution_count": null,
   "id": "b2a1e4bb",
   "metadata": {},
   "outputs": [],
   "source": [
    "with pm.Model() as m2:\n",
    "    α = pm.Cauchy('α',0,10)\n",
    "    β = pm.Cauchy('β',0,10)\n",
    "    logμ0 = α + β * (np.log(p0) - np.log(p0).mean())\n",
    "    μ0 = pm.Deterministic('μ0',np.exp(logμ0))\n",
    "    qval = pm.Poisson('q0',μ0,observed=q0)"
   ]
  },
  {
   "cell_type": "code",
   "execution_count": null,
   "id": "00ea4f58",
   "metadata": {},
   "outputs": [],
   "source": [
    "with m2:\n",
    "    t = pm.sample()\n",
    "pm.summary(t)"
   ]
  },
  {
   "cell_type": "code",
   "execution_count": null,
   "id": "be5af28f",
   "metadata": {},
   "outputs": [],
   "source": [
    "pm.traceplot(t);\n"
   ]
  },
  {
   "cell_type": "code",
   "execution_count": null,
   "id": "f3a5d423",
   "metadata": {},
   "outputs": [],
   "source": [
    "pm.forestplot(t)\n"
   ]
  },
  {
   "cell_type": "code",
   "execution_count": null,
   "id": "67f01611",
   "metadata": {},
   "outputs": [],
   "source": [
    "p = np.linspace(25,55)\n",
    "μ = np.exp(t.α + t.β * (np.log(p).reshape(-1,1) - np.log(p0).mean()))\n",
    "plt.plot(p,μ,c='k',alpha=0.01);\n",
    "plt.plot(p0,q0,'o',c='C1');"
   ]
  },
  {
   "cell_type": "code",
   "execution_count": null,
   "id": "add04d56",
   "metadata": {},
   "outputs": [],
   "source": [
    "import scipy\n",
    "\n",
    "plt.boxplot(scipy.stats.poisson.cdf(q0,mu=t['μ0']));\n"
   ]
  },
  {
   "cell_type": "code",
   "execution_count": null,
   "id": "ac7f0535",
   "metadata": {},
   "outputs": [],
   "source": [
    "np.mean(q0  > np.random.poisson(t['μ0']), 0)"
   ]
  },
  {
   "cell_type": "code",
   "execution_count": null,
   "id": "15f353d6",
   "metadata": {},
   "outputs": [],
   "source": [
    "k = 20\n",
    "π = (p - k).reshape(-1,1) * μ\n",
    "\n",
    "plt.plot(p,π,c='k',alpha=0.01);\n",
    "plt.plot(p,np.mean(π,1).T,c='C1',lw=2,label=\"$\\mathbb{E}[\\pi|P]$\");\n",
    "plt.fill_between(p,(np.mean(π,1)-np.std(π,1)).T,(np.mean(π,1)+np.std(π,1)).T,alpha=0.1,color='C1')\n",
    "plt.plot(p,(np.mean(π,1)+np.std(π,1)).T,c='C1',lw=1,label=\"$\\mathbb{E}[\\pi|P]\\ \\pm$1 sd\");\n",
    "plt.plot(p,(np.mean(π,1)-np.std(π,1)).T,c='C1',lw=1);\n",
    "pmax = p[np.argmax(np.mean(π,1))]\n",
    "plt.vlines(pmax,300,900,colors='C0',linestyles='dashed',label=\"argmax$_P\\ \\mathbb{E}[\\pi|P]$\")\n",
    "\n",
    "plt.ylim(300,900);\n",
    "plt.xlabel(\"Price $P$\")\n",
    "plt.ylabel(\"Profit $\\pi$\")\n",
    "\n",
    "plt.legend();"
   ]
  },
  {
   "cell_type": "code",
   "execution_count": null,
   "id": "d4fa3506",
   "metadata": {},
   "outputs": [],
   "source": []
  },
  {
   "cell_type": "code",
   "execution_count": null,
   "id": "7e46c9b7",
   "metadata": {},
   "outputs": [],
   "source": []
  },
  {
   "cell_type": "code",
   "execution_count": null,
   "id": "3a134d7c",
   "metadata": {},
   "outputs": [],
   "source": []
  },
  {
   "cell_type": "code",
   "execution_count": null,
   "id": "35c1b87c",
   "metadata": {},
   "outputs": [],
   "source": []
  },
  {
   "cell_type": "code",
   "execution_count": null,
   "id": "f747a8ff",
   "metadata": {},
   "outputs": [],
   "source": []
  },
  {
   "cell_type": "code",
   "execution_count": null,
   "id": "cdc0bc47",
   "metadata": {},
   "outputs": [],
   "source": []
  },
  {
   "cell_type": "code",
   "execution_count": null,
   "id": "0db9af76",
   "metadata": {},
   "outputs": [],
   "source": []
  }
 ],
 "metadata": {
  "kernelspec": {
   "display_name": "clase",
   "language": "python",
   "name": "clase"
  },
  "language_info": {
   "codemirror_mode": {
    "name": "ipython",
    "version": 3
   },
   "file_extension": ".py",
   "mimetype": "text/x-python",
   "name": "python",
   "nbconvert_exporter": "python",
   "pygments_lexer": "ipython3",
   "version": "3.9.12"
  }
 },
 "nbformat": 4,
 "nbformat_minor": 5
}
