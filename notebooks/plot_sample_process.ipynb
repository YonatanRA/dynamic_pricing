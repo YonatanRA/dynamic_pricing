{
 "cells": [
  {
   "cell_type": "code",
   "execution_count": null,
   "id": "c620520f",
   "metadata": {},
   "outputs": [],
   "source": [
    "import pandas as pd  \n",
    "pd.options.plotting.backend = 'plotly'\n",
    "pd.set_option('display.max_columns', None)\n",
    "\n",
    "import numpy as np            \n",
    "\n",
    "from scipy.stats import poisson        \n",
    "from scipy.optimize import minimize    \n",
    "from scipy.special import factorial\n",
    "\n",
    "from numba import jit \n",
    "\n",
    "from sklearn.preprocessing import StandardScaler\n",
    "\n",
    "import plotly\n",
    "import plotly.express as px"
   ]
  },
  {
   "cell_type": "code",
   "execution_count": null,
   "id": "0df8467f",
   "metadata": {},
   "outputs": [],
   "source": [
    "@jit()\n",
    "def loglike(price, count, alfa, beta):\n",
    "    '''\n",
    "    Linear Log-Likelihood from demand exponential function:\n",
    "    \n",
    "    demand = np.exp(alfa*price + beta)\n",
    "    \n",
    "    args:\n",
    "    price float : product price\n",
    "    count int : product quantity sold in that price\n",
    "    alfa float : first fit parameter, price parameter\n",
    "    beta float : second fit parameter, intercept parameter\n",
    "    '''\n",
    "    \n",
    "    demand = np.exp(alfa*price + beta)\n",
    "    \n",
    "    return -demand + count*np.log(demand) # - np.log(factorial(count))  "
   ]
  },
  {
   "cell_type": "code",
   "execution_count": null,
   "id": "16722f7f",
   "metadata": {},
   "outputs": [],
   "source": [
    "\n",
    "def fit(datos, p1, p2,\n",
    "        opciones={'disp':True,'maxiter':100},  # Funcion para obtener alfas, betas y gamma, stats y maximas iteraciones\n",
    "        metodo='trust-constr',    # metodo Nelder-Mead, Powell, CG, BFGS, Newton-CG, L-BFGS-B, TNC, COBYLA, SLSQP, trust-constr, dogleg, trust-ncg, trust-exact, trust-krylov (tambien custom)\n",
    "        ):  \n",
    "\n",
    "    \n",
    "    # inicializacion aleatoria de los parametros\n",
    "    val_inicial=np.concatenate((np.array([p1]),   # alfa\n",
    "                                np.array([p2])    # beta\n",
    "                                ))                \n",
    "  \n",
    "\n",
    "    def menos_loglike(params):  # Funcion menos log-verosimilitud, funcion a minimizar\n",
    "\n",
    "        log_like = [loglike(n.price,      # price from data\n",
    "                            n.count_,     # count from data\n",
    "                            params[0],    # alfa parameter\n",
    "                            params[1])    # beta parameter\n",
    "                    for n in datos.itertuples()] # seleccion en filas\n",
    "        \n",
    "        return -sum(log_like) \n",
    "        \n",
    "    \n",
    "    salida=minimize(menos_loglike, \n",
    "                    val_inicial, \n",
    "                    options=opciones, \n",
    "                    #constraints=restricciones, \n",
    "                    method=metodo) # minimizacion\n",
    "\n",
    "    #return salida       # salida de la minimizacion\n",
    "    return salida.x   # alfa, beta \n",
    "    "
   ]
  },
  {
   "cell_type": "code",
   "execution_count": null,
   "id": "4c217136",
   "metadata": {},
   "outputs": [],
   "source": [
    "%%time\n",
    "\n",
    "df = pd.read_parquet('../data/final_data.parquet')\n",
    "\n",
    "df.head()"
   ]
  },
  {
   "cell_type": "code",
   "execution_count": null,
   "id": "16c79095",
   "metadata": {},
   "outputs": [],
   "source": [
    "df.shape"
   ]
  },
  {
   "cell_type": "code",
   "execution_count": null,
   "id": "c078057c",
   "metadata": {},
   "outputs": [],
   "source": [
    "rates = [c for c in df.columns if '_rate' in c]\n",
    "\n",
    "for r in rates:\n",
    "    df[r]=df[r].apply(lambda x: x/100)"
   ]
  },
  {
   "cell_type": "code",
   "execution_count": null,
   "id": "644a11fd",
   "metadata": {},
   "outputs": [],
   "source": [
    "df.head()"
   ]
  },
  {
   "cell_type": "code",
   "execution_count": null,
   "id": "9a12c579",
   "metadata": {},
   "outputs": [],
   "source": [
    "df_lst = []\n",
    "\n",
    "\n",
    "for r in rates:\n",
    "    data = df.groupby(['date', r]).count().reset_index()\n",
    "    \n",
    "    data = data.iloc[:, 0:3]\n",
    "    \n",
    "    data.columns = ['date', 'price', 'count_']\n",
    "    \n",
    "    df_lst.append(data)"
   ]
  },
  {
   "cell_type": "code",
   "execution_count": null,
   "id": "58ff1cd7",
   "metadata": {},
   "outputs": [],
   "source": [
    "params = fit(df_lst[0][['price', 'count_']], \n",
    "                 p1=-1., \n",
    "                 p2=0.,\n",
    "                 opciones={'disp':True,'maxiter':10000})\n",
    "    \n",
    "y = np.exp(params[0]*x+params[1])*100\n",
    "\n",
    "\n",
    "\n",
    "df_plot=pd.DataFrame()\n",
    "df_plot['x']=x\n",
    "df_plot['y']=y\n",
    "df_plot['profit']=df_plot.x*df_plot.y\n",
    "\n",
    "\n",
    "display(px.line(df_plot, x='x', y='y'))\n",
    "px.line(df_plot, x='x', y='profit')"
   ]
  },
  {
   "cell_type": "code",
   "execution_count": null,
   "id": "ac7642fe",
   "metadata": {
    "scrolled": false
   },
   "outputs": [],
   "source": [
    "x = np.linspace(1, 100, 100)\n",
    "\n",
    "for d in df_lst:\n",
    "    \n",
    "    params = fit(d[['price', 'count_']], \n",
    "                 p1=-1., \n",
    "                 p2=0.,\n",
    "                 opciones={'disp':True,'maxiter':10000})\n",
    "    \n",
    "    y = np.exp(params[0]*x+params[1])\n",
    "    \n",
    "    \n",
    "    \n",
    "    df_plot=pd.DataFrame()\n",
    "    df_plot['x']=x\n",
    "    df_plot['y']=y\n",
    "    df_plot['profit']=df_plot.x*df_plot.y*100\n",
    "    \n",
    "    \n",
    "    display(px.line(df_plot, x='x', y='y'))\n",
    "    display(px.line(df_plot, x='x', y='profit'))"
   ]
  },
  {
   "cell_type": "code",
   "execution_count": null,
   "id": "3698c61a",
   "metadata": {},
   "outputs": [],
   "source": [
    "df_lst[-1]"
   ]
  },
  {
   "cell_type": "code",
   "execution_count": null,
   "id": "40934166",
   "metadata": {},
   "outputs": [],
   "source": []
  },
  {
   "cell_type": "code",
   "execution_count": null,
   "id": "0e63a5bf",
   "metadata": {},
   "outputs": [],
   "source": [
    "params = fit(df_lst[-1][['price', 'count_']], \n",
    "                 p1=-1., \n",
    "                 p2=0.,\n",
    "                 opciones={'disp':True,'maxiter':10000})\n",
    "    \n",
    "y = np.exp(params[0]*x+params[1])*100\n",
    "\n",
    "\n",
    "\n",
    "df_plot=pd.DataFrame()\n",
    "df_plot['x']=x\n",
    "df_plot['y']=y\n",
    "df_plot['profit']=df_plot.x*df_plot.y\n",
    "\n",
    "\n",
    "display(px.line(df_plot, x='x', y='y'))\n",
    "px.line(df_plot, x='x', y='profit')"
   ]
  },
  {
   "cell_type": "code",
   "execution_count": null,
   "id": "4053f54c",
   "metadata": {},
   "outputs": [],
   "source": [
    "df_lst[-1].to_parquet('../data/fake_data3.parquet')"
   ]
  },
  {
   "cell_type": "code",
   "execution_count": null,
   "id": "9114434a",
   "metadata": {},
   "outputs": [],
   "source": []
  }
 ],
 "metadata": {
  "kernelspec": {
   "display_name": "clase",
   "language": "python",
   "name": "clase"
  },
  "language_info": {
   "codemirror_mode": {
    "name": "ipython",
    "version": 3
   },
   "file_extension": ".py",
   "mimetype": "text/x-python",
   "name": "python",
   "nbconvert_exporter": "python",
   "pygments_lexer": "ipython3",
   "version": "3.9.12"
  }
 },
 "nbformat": 4,
 "nbformat_minor": 5
}
