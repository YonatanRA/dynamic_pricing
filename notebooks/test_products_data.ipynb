{
 "cells": [
  {
   "cell_type": "code",
   "execution_count": null,
   "id": "36f845b9",
   "metadata": {},
   "outputs": [],
   "source": [
    "import pandas as pd  \n",
    "pd.options.plotting.backend = 'plotly'\n",
    "pd.set_option('display.max_columns', None)"
   ]
  },
  {
   "cell_type": "code",
   "execution_count": null,
   "id": "a4e4c04d",
   "metadata": {},
   "outputs": [],
   "source": [
    "%%time\n",
    "\n",
    "df = pd.read_parquet('../data/bbva.parquet')\n",
    "\n",
    "df.head()"
   ]
  },
  {
   "cell_type": "code",
   "execution_count": null,
   "id": "fb9bfe58",
   "metadata": {},
   "outputs": [],
   "source": [
    "productos = sorted([c for c in df.columns if 'turnover_rate' in c])\n",
    "\n",
    "productos"
   ]
  },
  {
   "cell_type": "code",
   "execution_count": null,
   "id": "b2f51c8c",
   "metadata": {},
   "outputs": [],
   "source": [
    "cantidad = [e.replace('rate', 'amount') for e in productos]\n",
    "\n",
    "cantidad"
   ]
  },
  {
   "cell_type": "code",
   "execution_count": null,
   "id": "bf6face4",
   "metadata": {},
   "outputs": [],
   "source": [
    "seleccion = [e for tupla in zip(cantidad, productos) for e in tupla]\n",
    "\n",
    "seleccion"
   ]
  },
  {
   "cell_type": "code",
   "execution_count": null,
   "id": "ac91bf98",
   "metadata": {},
   "outputs": [],
   "source": [
    "columnas = ['x_cliente', 'cutoff_date'] + seleccion\n",
    "\n",
    "columnas"
   ]
  },
  {
   "cell_type": "code",
   "execution_count": null,
   "id": "2986cb0a",
   "metadata": {},
   "outputs": [],
   "source": [
    "data=df[columnas]"
   ]
  },
  {
   "cell_type": "code",
   "execution_count": null,
   "id": "8b6d5daf",
   "metadata": {},
   "outputs": [],
   "source": [
    "def raw_plot(col):\n",
    "    return data[col].plot.box()"
   ]
  },
  {
   "cell_type": "code",
   "execution_count": null,
   "id": "ccf092c7",
   "metadata": {},
   "outputs": [],
   "source": [
    "for p in productos:\n",
    "    display(data[p].describe())"
   ]
  },
  {
   "cell_type": "code",
   "execution_count": null,
   "id": "ee2bd66b",
   "metadata": {},
   "outputs": [],
   "source": [
    "for p in productos:\n",
    "    display(raw_plot(p))"
   ]
  },
  {
   "cell_type": "code",
   "execution_count": null,
   "id": "493b3947",
   "metadata": {},
   "outputs": [],
   "source": [
    "def plot(col):\n",
    "    return data[data[col]>0][col].plot.box()"
   ]
  },
  {
   "cell_type": "code",
   "execution_count": null,
   "id": "2369a957",
   "metadata": {},
   "outputs": [],
   "source": [
    "for p in columnas[2:]:\n",
    "    display(p, data[data[p]>0][p].describe())"
   ]
  },
  {
   "cell_type": "code",
   "execution_count": null,
   "id": "b480cea0",
   "metadata": {
    "scrolled": false
   },
   "outputs": [],
   "source": [
    "for p in productos:\n",
    "    display(plot(p))"
   ]
  },
  {
   "cell_type": "code",
   "execution_count": null,
   "id": "2680ce5a",
   "metadata": {},
   "outputs": [],
   "source": [
    "def hist(col):\n",
    "    return data[data[col]>0][col].plot.hist()"
   ]
  },
  {
   "cell_type": "code",
   "execution_count": null,
   "id": "7d07df68",
   "metadata": {
    "scrolled": false
   },
   "outputs": [],
   "source": [
    "for p in productos:\n",
    "    display(hist(p))"
   ]
  },
  {
   "cell_type": "code",
   "execution_count": null,
   "id": "3d52fe79",
   "metadata": {},
   "outputs": [],
   "source": []
  }
 ],
 "metadata": {
  "kernelspec": {
   "display_name": "clase",
   "language": "python",
   "name": "clase"
  },
  "language_info": {
   "codemirror_mode": {
    "name": "ipython",
    "version": 3
   },
   "file_extension": ".py",
   "mimetype": "text/x-python",
   "name": "python",
   "nbconvert_exporter": "python",
   "pygments_lexer": "ipython3",
   "version": "3.9.12"
  }
 },
 "nbformat": 4,
 "nbformat_minor": 5
}
