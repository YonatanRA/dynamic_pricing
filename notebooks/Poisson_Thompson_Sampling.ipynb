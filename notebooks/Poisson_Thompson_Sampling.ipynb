{
 "cells": [
  {
   "cell_type": "markdown",
   "id": "d0f794ff",
   "metadata": {},
   "source": [
    "# Poisson Thompson Sampling"
   ]
  },
  {
   "cell_type": "code",
   "execution_count": null,
   "id": "c45906e8",
   "metadata": {},
   "outputs": [],
   "source": [
    "import numpy as np\n",
    "\n",
    "from scipy.stats import gamma\n",
    "\n",
    "import pylab as plt"
   ]
  },
  {
   "cell_type": "markdown",
   "id": "d19a03ea",
   "metadata": {},
   "source": [
    "### Parametros de ajuste y medias de tres productos\n",
    "\n",
    "Parametros obtenidos de una regresion de Poisson con los datos actuales"
   ]
  },
  {
   "cell_type": "code",
   "execution_count": null,
   "id": "bfba8252",
   "metadata": {},
   "outputs": [],
   "source": [
    "PRODUCTS = {'surrogate': {'alpha': -0.02473518, 'beta': 5.47213038, 'mean': 28.8},\n",
    "            'extracash': {'alpha': -0.05629794, 'beta': 5.64341742, 'mean': 21.85},\n",
    "            'plussurrogate': {'alpha': -0.22629794, 'beta': 5.64341742, 'mean': 6.4},\n",
    "            'test': {'alpha': -7., 'beta': 50., 'mean': 28.8}\n",
    "            }"
   ]
  },
  {
   "cell_type": "markdown",
   "id": "a8758b6a",
   "metadata": {},
   "source": [
    "### Muestreo de la demanda real"
   ]
  },
  {
   "cell_type": "code",
   "execution_count": null,
   "id": "09f49012",
   "metadata": {},
   "outputs": [],
   "source": [
    "PROD = 'surrogate'"
   ]
  },
  {
   "cell_type": "code",
   "execution_count": null,
   "id": "ed558af9",
   "metadata": {},
   "outputs": [],
   "source": [
    "def sample_demand(price: float) -> int:\n",
    "    \"\"\"\n",
    "    Esta funcion realiza el muestreo de la distribucion de Poisson \n",
    "    con una media igual a la evaluacion de la curva de demanda ajustada previamente.\n",
    "    \n",
    "    Este sampleo reemplaza a la obtencion de datos en directo.\n",
    "    Este metodo puede ser usado como simulador, usando esta funcion,\n",
    "    o como optimizador en directo introduciendo la demanda actual.\n",
    "    \n",
    "    Args:\n",
    "    price: float, precio ofrecido del producto\n",
    "    \n",
    "    Return:\n",
    "    demand sample: int, demanda estimada para ese precio\n",
    "    \n",
    "    PUEDO SALTARME ESTE PASO, EVALUANDO LA FUNCION DE AJUSTE**, AUNQUE INTRODUZCO RANDOMNESS\n",
    "    \n",
    "    np.poisson.random -> https://numpy.org/doc/stable/reference/random/generated/numpy.random.poisson.html\n",
    "    \"\"\"\n",
    "    \n",
    "    global PROD\n",
    "    \n",
    "    prod = PRODUCTS[PROD]\n",
    "    \n",
    "    demand = np.exp(prod['alpha']*price + prod['beta'])*100\n",
    "    #demand = prod['alpha']*price + prod['beta']\n",
    "    \n",
    "    return np.random.poisson(demand, 1)[0]"
   ]
  },
  {
   "cell_type": "code",
   "execution_count": null,
   "id": "d4f4d647",
   "metadata": {},
   "outputs": [],
   "source": [
    "sample_demand(0.1)  "
   ]
  },
  {
   "cell_type": "code",
   "execution_count": null,
   "id": "6e71d06f",
   "metadata": {},
   "outputs": [],
   "source": [
    "# **EVALUACION DE LA FUNCION DE AJUSTE\n",
    "\n",
    "prod = PRODUCTS[PROD]\n",
    "\n",
    "np.exp(prod['alpha']*0.1*100 + prod['beta'])*100"
   ]
  },
  {
   "cell_type": "markdown",
   "id": "fd7de013",
   "metadata": {},
   "source": [
    "### Muestreo del modelo Gamma-Poisson\n",
    "\n",
    "* Parametros iniciales de las distribuciones Gamma\n",
    "* Sampleo desde el modelo Gamma-Poisson"
   ]
  },
  {
   "cell_type": "code",
   "execution_count": null,
   "id": "e6f0a99f",
   "metadata": {},
   "outputs": [],
   "source": [
    "# initial params\n",
    "\n",
    "alpha_0 = 300.     \n",
    "beta_0 = 1.\n",
    "\n",
    "PRICES = np.arange(0.1, 1., 0.1)\n",
    "#PRICES = np.arange(2.49, 5.99, 1)\n",
    "\n",
    "PRICES = np.round(PRICES, 1)\n",
    "\n",
    "PARAMS = [{'price': p, 'alpha': alpha_0, 'beta': beta_0} for p in PRICES]\n",
    "\n",
    "PARAMS"
   ]
  },
  {
   "cell_type": "code",
   "execution_count": null,
   "id": "e533299b",
   "metadata": {},
   "outputs": [],
   "source": [
    "def sample_demand_from_model(parameters: list) -> list:\n",
    "    \"\"\"\n",
    "    Muestreo del modelo Gamma-Poisson:\n",
    "    \n",
    "    Args:\n",
    "    parameters: list, lista de diccionarios con los parametros de las gammas de cada precio\n",
    "    \n",
    "    Return:\n",
    "    list, lista de parametros actualizados para cada precio\n",
    "    \"\"\"\n",
    "    return list(map(lambda v: np.random.gamma(v['alpha'], 1/v['beta']), parameters))"
   ]
  },
  {
   "cell_type": "markdown",
   "id": "2a44e467",
   "metadata": {},
   "source": [
    "### Obtencion del precio optimo (precio ofrecido)"
   ]
  },
  {
   "cell_type": "code",
   "execution_count": null,
   "id": "07bd16ae",
   "metadata": {},
   "outputs": [],
   "source": [
    "def get_optimal_price(prices: list, demands: list) -> dict:\n",
    "    \"\"\"\n",
    "    Identifica el precio optimo. \n",
    "    Nota: este es el modelo Greedy, siempre el argmax.\n",
    "    Funcion a ser modelada para diferentes algoritmos.\n",
    "    \"\"\"\n",
    "    \n",
    "    index = np.argmax(prices * demands)\n",
    "    \n",
    "    return {'price_index': index, 'price': prices[index]}"
   ]
  },
  {
   "cell_type": "markdown",
   "id": "277e5749",
   "metadata": {},
   "source": [
    "### Viz"
   ]
  },
  {
   "cell_type": "code",
   "execution_count": null,
   "id": "378709b1",
   "metadata": {},
   "outputs": [],
   "source": [
    "def plot_(parameters: list, iteration: int):\n",
    "    \n",
    "    x = np.arange(0, 10, 0.20)\n",
    "    \n",
    "    for dist in parameters:\n",
    "        \n",
    "        y = gamma.pdf(x, a=dist[\"alpha\"], scale= 1/dist[\"beta\"])\n",
    "        plt.plot(x, y, label = dist[\"price\"])\n",
    "        plt.xlabel(\"demand\")\n",
    "        plt.ylabel(\"pdf\")\n",
    "        \n",
    "    plt.title(f\"PDFs after Iteration: {iteration}\")\n",
    "    plt.legend(loc=\"upper right\")\n",
    "    plt.show();"
   ]
  },
  {
   "cell_type": "markdown",
   "id": "76ea2fb8",
   "metadata": {},
   "source": [
    "## Simulacion"
   ]
  },
  {
   "cell_type": "code",
   "execution_count": null,
   "id": "f40fee1f",
   "metadata": {},
   "outputs": [],
   "source": [
    "price_counts = {p: 0 for p in PRICES}\n",
    "\n",
    "price_counts"
   ]
  },
  {
   "cell_type": "code",
   "execution_count": null,
   "id": "62931a32",
   "metadata": {
    "scrolled": false
   },
   "outputs": [],
   "source": [
    "# para N clientes\n",
    "\n",
    "N = 2000\n",
    "\n",
    "for t in range(N):\n",
    "\n",
    "    # muestreo de demanda desde el modelo gamma-poisson\n",
    "    demands = sample_demand_from_model(PARAMS)\n",
    "\n",
    "    # obtener precio optimo\n",
    "    optimal_price_res = get_optimal_price(PRICES, demands)\n",
    "\n",
    "    # incrementar la cuenta de ese precio\n",
    "    price_counts[optimal_price_res['price']] += 1\n",
    "\n",
    "    # ofrecer precio optimo y OBSERVAR demanda\n",
    "    true_demand = sample_demand(optimal_price_res['price'])\n",
    "\n",
    "    # actualizar parametros del modelo / actualizar creencia\n",
    "    v = PARAMS[optimal_price_res['price_index']] # para ese precio...\n",
    "    v['alpha'] += true_demand                     # alfa + demanda\n",
    "    v['beta'] += 1                               # beta + 1\n",
    "    \n",
    "    \n",
    "    if t%200 == 0:\n",
    "        plot_(PARAMS, t)"
   ]
  },
  {
   "cell_type": "code",
   "execution_count": null,
   "id": "3c7ebf27",
   "metadata": {},
   "outputs": [],
   "source": [
    "price_counts"
   ]
  },
  {
   "cell_type": "code",
   "execution_count": null,
   "id": "713ee901",
   "metadata": {},
   "outputs": [],
   "source": [
    "PARAMS"
   ]
  },
  {
   "cell_type": "code",
   "execution_count": null,
   "id": "03ae789c",
   "metadata": {},
   "outputs": [],
   "source": [
    "demands"
   ]
  },
  {
   "cell_type": "code",
   "execution_count": null,
   "id": "ccd868a9",
   "metadata": {},
   "outputs": [],
   "source": [
    "optimal_price_res"
   ]
  },
  {
   "cell_type": "code",
   "execution_count": null,
   "id": "e067984c",
   "metadata": {},
   "outputs": [],
   "source": [
    "true_demand"
   ]
  },
  {
   "cell_type": "code",
   "execution_count": null,
   "id": "61b4f08e",
   "metadata": {},
   "outputs": [],
   "source": [
    "v"
   ]
  },
  {
   "cell_type": "code",
   "execution_count": null,
   "id": "d6d66140",
   "metadata": {},
   "outputs": [],
   "source": []
  },
  {
   "cell_type": "code",
   "execution_count": null,
   "id": "2de101cf",
   "metadata": {},
   "outputs": [],
   "source": []
  }
 ],
 "metadata": {
  "kernelspec": {
   "display_name": "clase",
   "language": "python",
   "name": "clase"
  },
  "language_info": {
   "codemirror_mode": {
    "name": "ipython",
    "version": 3
   },
   "file_extension": ".py",
   "mimetype": "text/x-python",
   "name": "python",
   "nbconvert_exporter": "python",
   "pygments_lexer": "ipython3",
   "version": "3.9.12"
  }
 },
 "nbformat": 4,
 "nbformat_minor": 5
}
