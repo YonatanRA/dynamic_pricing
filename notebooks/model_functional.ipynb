{
 "cells": [
  {
   "cell_type": "code",
   "execution_count": null,
   "id": "eb1a017d",
   "metadata": {},
   "outputs": [],
   "source": [
    "#libraries\n",
    "\n",
    "import pandas as pd  \n",
    "\n",
    "import numpy as np            \n",
    "\n",
    "from scipy.optimize import minimize    \n",
    "\n",
    "from numba import jit\n",
    "\n",
    "\n",
    "import plotly\n",
    "import plotly.express as px"
   ]
  },
  {
   "cell_type": "markdown",
   "id": "eb76ed47",
   "metadata": {},
   "source": [
    "## Model"
   ]
  },
  {
   "cell_type": "code",
   "execution_count": null,
   "id": "084e511a",
   "metadata": {},
   "outputs": [],
   "source": [
    "# the decorator from numba is for 3X speed in fitting\n",
    "\n",
    "@jit()  \n",
    "def loglike(price: float, count: int, alfa: float, beta: float) -> float:\n",
    "    \n",
    "    '''\n",
    "    Log-Likelihood from demand exponential function:\n",
    "    \n",
    "    demand = np.exp(alfa*price + beta)\n",
    "    \n",
    "    Args:\n",
    "    price : float, product price\n",
    "    count : int, product quantity sold in that price\n",
    "    alfa : float, first fit parameter, price parameter\n",
    "    beta : float, second fit parameter, intercept parameter\n",
    "    \n",
    "    \n",
    "    Return:\n",
    "    log-likelihood : float \n",
    "    '''\n",
    "    \n",
    "    demand = np.exp(alfa*price + beta)\n",
    "    \n",
    "    return -demand + count*np.log(demand) "
   ]
  },
  {
   "cell_type": "code",
   "execution_count": null,
   "id": "91b5694b",
   "metadata": {},
   "outputs": [],
   "source": [
    "def fit(X: np.array) -> np.array:\n",
    "    \n",
    "    '''\n",
    "    Fit model function. \n",
    "    \n",
    "    Args:\n",
    "    X : np.array with shape (N, 2), first column is price and the second is count_\n",
    "    \n",
    "    Return:\n",
    "    params : np.array with two float, alfa and beta\n",
    "    '''\n",
    "    \n",
    "    \n",
    "    # array of alfa and beta initial values \n",
    "    initial_values = np.array([-1., 0.]) # alfa, beta               \n",
    "  \n",
    "\n",
    "    def minus_loglike(params):  # Log-Likelihood, function to be minimize\n",
    "        \n",
    "        '''\n",
    "        Args:\n",
    "        params : np.array with two float, alfa and beta\n",
    "        \n",
    "        Return:\n",
    "        log-likelihood : float \n",
    "        '''\n",
    "        \n",
    "        \n",
    "        log_like = map(lambda elem: loglike(elem[0],     # price from data\n",
    "                                            elem[1],     # count from data\n",
    "                                            params[0],   # alfa parameter\n",
    "                                            params[1]),  # beta parameter\n",
    "                       X)\n",
    "        \n",
    "        \n",
    "        \n",
    "        return -sum(log_like) \n",
    "        \n",
    "    \n",
    "    output=minimize(minus_loglike, \n",
    "                    initial_values, \n",
    "                    options={'disp':True, 'maxiter':10000}, \n",
    "                    method='trust-constr') \n",
    "\n",
    "    return output.x   # alfa, beta"
   ]
  },
  {
   "cell_type": "code",
   "execution_count": null,
   "id": "ca751f4c",
   "metadata": {},
   "outputs": [],
   "source": [
    "def predict(params: np.array) -> list:\n",
    "    \n",
    "    '''\n",
    "    Function to predict demand & profit functions from parameters.\n",
    "    \n",
    "    Args:\n",
    "    params : np.array with two float, alfa and beta\n",
    "    \n",
    "    Return:\n",
    "    demand & profit functions : list with two np.array with 100 ordered values each\n",
    "    '''\n",
    "    \n",
    "    x = np.linspace(1, 100, 100)\n",
    "    \n",
    "    demand = np.exp(params[0]*x + params[1])\n",
    "    \n",
    "    profit = x * demand * 100\n",
    "    \n",
    "    return [demand, profit]"
   ]
  },
  {
   "cell_type": "markdown",
   "id": "a1219377",
   "metadata": {},
   "source": [
    "## Data"
   ]
  },
  {
   "cell_type": "code",
   "execution_count": null,
   "id": "a2402f27",
   "metadata": {},
   "outputs": [],
   "source": [
    "data = pd.read_parquet('data.parquet')\n",
    "\n",
    "data.head()"
   ]
  },
  {
   "cell_type": "code",
   "execution_count": null,
   "id": "351ec40c",
   "metadata": {},
   "outputs": [],
   "source": [
    "data.info(memory_usage='deep')"
   ]
  },
  {
   "cell_type": "code",
   "execution_count": null,
   "id": "1d0e98c2",
   "metadata": {},
   "outputs": [],
   "source": [
    "data.describe(datetime_is_numeric=True)"
   ]
  },
  {
   "cell_type": "markdown",
   "id": "30fa1a8e",
   "metadata": {},
   "source": [
    "## Fit and predict"
   ]
  },
  {
   "cell_type": "code",
   "execution_count": null,
   "id": "2b77c2ef",
   "metadata": {},
   "outputs": [],
   "source": [
    "X = data[['price', 'count_']]\n",
    "\n",
    "X.head()"
   ]
  },
  {
   "cell_type": "code",
   "execution_count": null,
   "id": "dbfe5703",
   "metadata": {},
   "outputs": [],
   "source": [
    "X = X.values\n",
    "\n",
    "X[0]   # price, count"
   ]
  },
  {
   "cell_type": "code",
   "execution_count": null,
   "id": "82d33b0b",
   "metadata": {},
   "outputs": [],
   "source": [
    "%%time\n",
    "\n",
    "params = fit(X)\n",
    "\n",
    "params"
   ]
  },
  {
   "cell_type": "code",
   "execution_count": null,
   "id": "671ddb31",
   "metadata": {},
   "outputs": [],
   "source": [
    "prediction = predict(params)"
   ]
  },
  {
   "cell_type": "markdown",
   "id": "68c14213",
   "metadata": {},
   "source": [
    "## Plots"
   ]
  },
  {
   "cell_type": "code",
   "execution_count": null,
   "id": "1cea0f72",
   "metadata": {},
   "outputs": [],
   "source": [
    "df_plot=pd.DataFrame()\n",
    "\n",
    "df_plot['x'] = np.linspace(1, 100, 100)\n",
    "\n",
    "df_plot['demand'] = prediction[0]\n",
    "\n",
    "df_plot['profit'] = prediction[1]\n",
    "\n",
    "df_plot.head()"
   ]
  },
  {
   "cell_type": "code",
   "execution_count": null,
   "id": "16271cff",
   "metadata": {},
   "outputs": [],
   "source": [
    "# demand plot\n",
    "\n",
    "px.line(df_plot, x='x', y='demand')"
   ]
  },
  {
   "cell_type": "code",
   "execution_count": null,
   "id": "b38d79e9",
   "metadata": {},
   "outputs": [],
   "source": [
    "# profit plot\n",
    "\n",
    "px.line(df_plot, x='x', y='profit')"
   ]
  },
  {
   "cell_type": "code",
   "execution_count": null,
   "id": "3509e4d9",
   "metadata": {},
   "outputs": [],
   "source": []
  },
  {
   "cell_type": "code",
   "execution_count": null,
   "id": "d0377786",
   "metadata": {},
   "outputs": [],
   "source": []
  }
 ],
 "metadata": {
  "kernelspec": {
   "display_name": "clase",
   "language": "python",
   "name": "clase"
  },
  "language_info": {
   "codemirror_mode": {
    "name": "ipython",
    "version": 3
   },
   "file_extension": ".py",
   "mimetype": "text/x-python",
   "name": "python",
   "nbconvert_exporter": "python",
   "pygments_lexer": "ipython3",
   "version": "3.9.12"
  }
 },
 "nbformat": 4,
 "nbformat_minor": 5
}
