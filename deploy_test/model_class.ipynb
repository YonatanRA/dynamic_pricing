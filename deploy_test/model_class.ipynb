{
 "cells": [
  {
   "cell_type": "code",
   "execution_count": null,
   "id": "9d75c9bf",
   "metadata": {},
   "outputs": [],
   "source": [
    "# libraries\n",
    "\n",
    "# Python 3.9.12\n",
    "\n",
    "import pandas as pd                    # pandas==1.5.3\n",
    "\n",
    "import numpy as np                     # numpy==1.23.5        \n",
    "\n",
    "from scipy.optimize import minimize    # scipy==1.10.0 \n",
    "\n",
    "from numba import jit                  # numba==0.56.4\n",
    "\n",
    "\n",
    "import plotly                          # plotly==5.13.0\n",
    "import plotly.express as px"
   ]
  },
  {
   "cell_type": "markdown",
   "id": "d341d0e2",
   "metadata": {},
   "source": [
    "## Model"
   ]
  },
  {
   "cell_type": "code",
   "execution_count": null,
   "id": "e699cd82",
   "metadata": {},
   "outputs": [],
   "source": [
    "class PoissonPriceModel:\n",
    "    \n",
    "    '''\n",
    "    class PoissonPriceModel\n",
    "    '''\n",
    "    \n",
    "    def __init__(self):\n",
    "        \n",
    "        # initial params\n",
    "        self.params = None\n",
    "    \n",
    "    \n",
    "    # the decorator from numba is for 3X speed in fitting\n",
    "    @staticmethod\n",
    "    @jit()  \n",
    "    def loglike(price: float, count: int, alfa: float, beta: float) -> float:\n",
    "\n",
    "        '''\n",
    "        Log-Likelihood from demand exponential function:\n",
    "\n",
    "        demand = np.exp(alfa*price + beta)\n",
    "\n",
    "        Args:\n",
    "        price : float, product price\n",
    "        count : int, product quantity sold in that price\n",
    "        alfa : float, first fit parameter, price parameter\n",
    "        beta : float, second fit parameter, intercept parameter\n",
    "\n",
    "\n",
    "        Return:\n",
    "        log-likelihood : float \n",
    "        '''\n",
    "\n",
    "        demand = np.exp(alfa*price + beta)\n",
    "\n",
    "        return -demand + count*np.log(demand)\n",
    "    \n",
    "    \n",
    "    \n",
    "    def fit(self, X: np.array) -> np.array:\n",
    "    \n",
    "        '''\n",
    "        Fit model function. \n",
    "\n",
    "        Args:\n",
    "        X : np.array with shape (N, 2), first column is price and the second is count_\n",
    "\n",
    "        Return:\n",
    "        params : np.array with two float, alfa and beta\n",
    "        '''\n",
    "\n",
    "\n",
    "        # array of alfa and beta initial values \n",
    "        initial_values = np.array([-1., 0.]) # alfa, beta               \n",
    "\n",
    "\n",
    "        def minus_loglike(params: np.array) -> float:  # Log-Likelihood, function to be minimize\n",
    "\n",
    "            '''\n",
    "            Args:\n",
    "            params : np.array with two float, alfa and beta\n",
    "\n",
    "            Return:\n",
    "            minu-log-likelihood : float, minus for maximization\n",
    "            '''\n",
    "\n",
    "\n",
    "            log_like = map(lambda elem: PoissonPriceModel().loglike(elem[0],     # price from data\n",
    "                                                                    elem[1],     # count from data\n",
    "                                                                    params[0],   # alfa parameter\n",
    "                                                                    params[1]),  # beta parameter\n",
    "                                               X)\n",
    "\n",
    "\n",
    "\n",
    "            return -sum(log_like) \n",
    "\n",
    "\n",
    "        output=minimize(minus_loglike, \n",
    "                        initial_values, \n",
    "                        options={'disp':False, 'maxiter':100}, \n",
    "                        method='L-BFGS-B') \n",
    "        \n",
    "        self.params = output.x   # alfa, beta\n",
    "    \n",
    "    \n",
    "    \n",
    "    def predict(self) -> list:\n",
    "    \n",
    "        '''\n",
    "        Function to predict demand & profit functions from parameters.\n",
    "\n",
    "        Args:\n",
    "        params : np.array with two float, alfa and beta\n",
    "\n",
    "        Return:\n",
    "        demand & profit functions : list with two np.array with 1000 ordered values each\n",
    "        '''\n",
    "\n",
    "        x = np.linspace(1, 100, 1000)\n",
    "\n",
    "        demand = np.exp(self.params[0]*x + self.params[1])\n",
    "\n",
    "        profit = x * demand * 100\n",
    "\n",
    "        return [demand, profit]"
   ]
  },
  {
   "cell_type": "markdown",
   "id": "7607e3de",
   "metadata": {},
   "source": [
    "## Data\n",
    "\n",
    "Sample data group by date and price with count as aggregation function. Data for model feeding."
   ]
  },
  {
   "cell_type": "code",
   "execution_count": null,
   "id": "dc0eed70",
   "metadata": {},
   "outputs": [],
   "source": [
    "data = pd.read_parquet('data.parquet')\n",
    "\n",
    "data.head()"
   ]
  },
  {
   "cell_type": "code",
   "execution_count": null,
   "id": "e065659f",
   "metadata": {},
   "outputs": [],
   "source": [
    "data.info(memory_usage='deep')"
   ]
  },
  {
   "cell_type": "code",
   "execution_count": null,
   "id": "0ea3f07a",
   "metadata": {},
   "outputs": [],
   "source": [
    "data.describe(datetime_is_numeric=True)"
   ]
  },
  {
   "cell_type": "markdown",
   "id": "2f4d825e",
   "metadata": {},
   "source": [
    "## Fit and predict"
   ]
  },
  {
   "cell_type": "code",
   "execution_count": null,
   "id": "ee0aaa38",
   "metadata": {},
   "outputs": [],
   "source": [
    "X = data[['price', 'count_']]\n",
    "\n",
    "X.head()"
   ]
  },
  {
   "cell_type": "code",
   "execution_count": null,
   "id": "1b8c8349",
   "metadata": {},
   "outputs": [],
   "source": [
    "X = X.values\n",
    "\n",
    "X[0]   # price, count"
   ]
  },
  {
   "cell_type": "code",
   "execution_count": null,
   "id": "3a33058f",
   "metadata": {},
   "outputs": [],
   "source": [
    "X.shape"
   ]
  },
  {
   "cell_type": "code",
   "execution_count": null,
   "id": "2cde291c",
   "metadata": {},
   "outputs": [],
   "source": [
    "## Poisson model\n",
    "\n",
    "model = PoissonPriceModel()"
   ]
  },
  {
   "cell_type": "code",
   "execution_count": null,
   "id": "e03c1f91",
   "metadata": {},
   "outputs": [],
   "source": [
    "%%time\n",
    "\n",
    "model.fit(X)"
   ]
  },
  {
   "cell_type": "code",
   "execution_count": null,
   "id": "0be20d94",
   "metadata": {},
   "outputs": [],
   "source": [
    "prediction = model.predict()"
   ]
  },
  {
   "cell_type": "markdown",
   "id": "322b44ac",
   "metadata": {},
   "source": [
    "## Plots"
   ]
  },
  {
   "cell_type": "code",
   "execution_count": null,
   "id": "c778fdd4",
   "metadata": {},
   "outputs": [],
   "source": [
    "df_plot=pd.DataFrame()\n",
    "\n",
    "df_plot['rate'] = np.linspace(1, 100, 1000)\n",
    "\n",
    "df_plot['demand'] = prediction[0]\n",
    "\n",
    "df_plot['profit'] = prediction[1]\n",
    "\n",
    "df_plot.head()"
   ]
  },
  {
   "cell_type": "code",
   "execution_count": null,
   "id": "a6f2b3ff",
   "metadata": {},
   "outputs": [],
   "source": [
    "# demand plot\n",
    "\n",
    "px.line(df_plot, x='rate', y='demand')"
   ]
  },
  {
   "cell_type": "code",
   "execution_count": null,
   "id": "9abf3c60",
   "metadata": {},
   "outputs": [],
   "source": [
    "# profit plot\n",
    "\n",
    "px.line(df_plot, x='rate', y='profit')"
   ]
  },
  {
   "cell_type": "code",
   "execution_count": null,
   "id": "f8afc5b4",
   "metadata": {},
   "outputs": [],
   "source": []
  },
  {
   "cell_type": "code",
   "execution_count": null,
   "id": "f6944154",
   "metadata": {},
   "outputs": [],
   "source": []
  }
 ],
 "metadata": {
  "kernelspec": {
   "display_name": "pathfinder",
   "language": "python",
   "name": "pathfinder"
  },
  "language_info": {
   "codemirror_mode": {
    "name": "ipython",
    "version": 3
   },
   "file_extension": ".py",
   "mimetype": "text/x-python",
   "name": "python",
   "nbconvert_exporter": "python",
   "pygments_lexer": "ipython3",
   "version": "3.9.12"
  }
 },
 "nbformat": 4,
 "nbformat_minor": 5
}
